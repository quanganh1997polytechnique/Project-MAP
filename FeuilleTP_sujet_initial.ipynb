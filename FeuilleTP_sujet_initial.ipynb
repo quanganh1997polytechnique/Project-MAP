{
 "cells": [
  {
   "cell_type": "markdown",
   "metadata": {},
   "source": [
    "<center><strong><big>Feuille TP Python MAP361</big></strong></center>"
   ]
  },
  {
   "cell_type": "markdown",
   "metadata": {},
   "source": [
    "Le document que vous êtes en train de lire est un _notebook_ (un fichier d'extension \"_.ipynb_\"). Ce fichier est interprété par un programme appelé [jupyter](https://jupyter.org/) qui s'execute dans un navigateur web. Un notebook contient des cellules qui peuvent être:\n",
    "- **Markdown**: contient du texte au format html ou au format [markdown](https://www.markdownguide.org/) qui permet d'écrire brièvement du texte formaté et aussi des mathématiques $e^{i \\pi} = -1$ (grâce à la syntaxe [LaTeX](https://www.latex-project.org/) et à l'interpéteur [mathjax](https://www.mathjax.org/))\n",
    "- **Code**: contient du code, ici du python3 car le [kernel](https://github.com/jupyter/jupyter/wiki/Jupyter-kernels) est un interpréteur python3 (mais on pourrait utiliser un kernel pour un autre langage: R, Julia, bash, et même du C++)\n",
    "- **Raw**: des instructions non interprétées par jupyter\n",
    "\n",
    "On peut éditer une cellule en double-cliquant dessus, puis l'executer en faisant la combinaison **Shift+Enter**. L'application jupyter a plusieurs menus qui permettent d'ajouter une cellule, de changer son type (Markdown/Code/Raw), de manipuler des cellules (copier/coller/suppression/fusion...), d'agir sur le kernel: interruption du code, redémarrage du kernel...\n",
    "\n",
    "Chaque cellule de code qui est executé possède un numéro. Ce numéro est important car il permet de suivre la séquence d'execution des cellules. L'execution d'une cellule peut dépendre de variables définies dans des cellules déjà executées: le contexte est global. Par exemple la variable `x` est définie et initialisée après l'execution de cette cellule (à executer):"
   ]
  },
  {
   "cell_type": "code",
   "execution_count": null,
   "metadata": {},
   "outputs": [],
   "source": [
    "x = 0     # x sera accessible dans les cellules suivantes"
   ]
  },
  {
   "cell_type": "markdown",
   "metadata": {},
   "source": [
    "Une cellule de code doit contenir du code compatible avec le kernel utilisé. Les erreurs de syntaxe ou d'execution apparaissent en rouge à l'execution de la cellule. Voici un exemple (à executer):"
   ]
  },
  {
   "cell_type": "code",
   "execution_count": null,
   "metadata": {},
   "outputs": [],
   "source": [
    "y = 1 / x\n",
    "print(y)"
   ]
  },
  {
   "cell_type": "markdown",
   "metadata": {},
   "source": [
    "---"
   ]
  },
  {
   "cell_type": "markdown",
   "metadata": {},
   "source": [
    "Dans toute cette feuille on utilise les librairies suivantes qui sont à connaitre pour une bonne utilisation du langage python comme langage de programmation scientifique. La documentation officielle est parfaite pour apprendre à utiliser au mieux ces librairies. Voici les liens\n",
    "- [numpy](https://www.numpy.org/devdocs/user/index.html)\n",
    "- [numpy.random](https://docs.scipy.org/doc/numpy/reference/routines.random.html)\n",
    "- [scipy.stats](https://docs.scipy.org/doc/scipy/reference/stats.html)\n",
    "- [matplotlib](https://matplotlib.org/contents.html)\n",
    "- [pandas](http://pandas.pydata.org/pandas-docs/stable/)\n",
    "\n",
    "La cellule de code suivante fait les `import` nécessaire au code de cette feuille. On utilisera donc les abbréviations `np`, `npr`, `sps` et `plt` pour accéder à ces librairies."
   ]
  },
  {
   "cell_type": "code",
   "execution_count": null,
   "metadata": {},
   "outputs": [],
   "source": [
    "import numpy as np\n",
    "import numpy.random as npr\n",
    "import scipy.stats as sps\n",
    "import matplotlib.pyplot as plt\n",
    "import pandas as pd"
   ]
  },
  {
   "cell_type": "code",
   "execution_count": null,
   "metadata": {},
   "outputs": [],
   "source": [
    "np.mean?"
   ]
  },
  {
   "cell_type": "markdown",
   "metadata": {},
   "source": [
    "Dans les cellules de codes (python) d'un notebook jupyter on a aussi la possibilité d'accéder à des commandes [magics](https://ipython.readthedocs.io/en/stable/interactive/magics.html) qui sont précédées du symbole `%` ou `%%`. Par exemple dans la cellule ci-dessous on appelle la magic [%matplotlib](https://ipython.readthedocs.io/en/stable/interactive/magics.html#magic-matplotlib). Une autre commande qu'on utilisera dans ce TP (et qui est utile pour apprendre à programmer efficacement) est [%timeit](https://ipython.readthedocs.io/en/stable/interactive/magics.html#magic-timeit)."
   ]
  },
  {
   "cell_type": "code",
   "execution_count": null,
   "metadata": {},
   "outputs": [],
   "source": [
    "%matplotlib inline\n",
    "%config InlineBackend.figure_format ='retina' # pour avoir une résolution double sur un écran Retina (macbook)"
   ]
  },
  {
   "cell_type": "markdown",
   "metadata": {
    "toc-hr-collapsed": false
   },
   "source": [
    "# Simulation et représentation de lois de probabilité"
   ]
  },
  {
   "cell_type": "markdown",
   "metadata": {
    "toc-hr-collapsed": false
   },
   "source": [
    "## Lois discrètes\n",
    "Pour simuler une loi discrète donnée par un vecteur $p \\in [0,1]^d$ tel que $\\sum_k p_k = 1$ on peut au choix: \n",
    "- utiliser la fonction `np.random.choice` \n",
    "- utiliser la classe `scipy.stats.rv_discrete` et sa méthode `rvs` associée "
   ]
  },
  {
   "cell_type": "markdown",
   "metadata": {},
   "source": [
    "On considère la variable aléatoire $X$ sur $E = \\{0, 1, 2, 3, 4, 5, 6 \\}$ de loi donnée par $\\mathbf{P}[X = k] = p_k$\n",
    "$$\n",
    "    p = (0.1, 0.2, 0.3, 0.1, 0.1, 0.0, 0.2)\n",
    "$$"
   ]
  },
  {
   "cell_type": "markdown",
   "metadata": {},
   "source": [
    "><b><big>Q</big>1.</b> Créer un `np.array` `sample` qui contient `N = 200` réalisations indépendantes de la variable aléatoire $X$ (on parle aussi d'un échantillon _i.i.d._ de même loi que $X$). Dans la suite le tableau `sample` contient $(X_1,\\dots,X_N)$.\n"
   ]
  },
  {
   "cell_type": "code",
   "execution_count": null,
   "metadata": {},
   "outputs": [],
   "source": []
  },
  {
   "cell_type": "markdown",
   "metadata": {},
   "source": [
    "><b><big>Q</big>2.</b> A l'aide de la fonction `numpy.bincount` données les proportions empiriques de `sample`, c'est à dire les quantités $$\\frac{1}{N} \\sum_{i=1}^N \\mathbf{1}_{X_i = k}$$ pour tout $k \\in E$. On peut aussi utiliser la fonction `np.histogram` mais en faisant attention aux arguments optionnels, notamment l'argument `bins` (on utilisera cette fonction pour les lois à densité)."
   ]
  },
  {
   "cell_type": "code",
   "execution_count": null,
   "metadata": {},
   "outputs": [],
   "source": []
  },
  {
   "cell_type": "markdown",
   "metadata": {},
   "source": [
    "><b><big>Q</big>3.</b> En utilisant la fonction `plt.bar` et les options `edgecolor = \"black\", color = \"red\", width = 0.5, alpha = 0.2`, ainsi que la fonction `plt.stem` (ou bien la combinaison des fonctions `plot` et `vlines`), réaliser le tracé suivant:\n",
    ":![](discrete.png):"
   ]
  },
  {
   "cell_type": "code",
   "execution_count": null,
   "metadata": {},
   "outputs": [],
   "source": []
  },
  {
   "cell_type": "markdown",
   "metadata": {},
   "source": [
    "><b><big>Q</big>4.</b> Tracer ce graphe pour plusieurs échantillons, puis augmenter la taille de l'échantillon. Que remarque-t-on ?"
   ]
  },
  {
   "cell_type": "code",
   "execution_count": null,
   "metadata": {},
   "outputs": [],
   "source": []
  },
  {
   "cell_type": "markdown",
   "metadata": {},
   "source": [
    "><b><big>Q</big>5.</b> Représenter l'erreur en variation totale $E_N$ entre la loi de X et la loi empirique d'un échantillon en fonction de la taille $N$ (faire varier `N` de 100 à 40000 par pas de 100 en utilisant `np.arange`). On rappelle que l'erreur en variation totale entre 2 lois s'exprime comme la moitié de la norme $\\mathbb{L}^1$ entre les vecteurs $(\\mu(x))_{x \\in E}$ et $(\\nu(x))_{x \\in E}$ c'est à dire\n",
    "$$\n",
    "    \\| \\mu - \\nu \\|_{TV} = \\frac{1}{2} \\sum_{x \\in E} |\\mu(x) - \\nu(x)|.\n",
    "$$\n",
    "Faire aussi le graphe de $\\sqrt{N} \\times E_N$ en fonction de $N$. Que cela suggère-t-il sur le comportement théorique de l'erreur ? "
   ]
  },
  {
   "cell_type": "code",
   "execution_count": null,
   "metadata": {},
   "outputs": [],
   "source": []
  },
  {
   "cell_type": "markdown",
   "metadata": {
    "toc-hr-collapsed": false
   },
   "source": [
    "><b><big>Q</big>6.</b> On considère maintenant la loi binomiale de paramètres $n = 20, p = 0.4$. Faire le graphe qui compare la loi empirique et la loi théorique avec cette loi discrète. Il est conseillé d'utiliser `sps.binom` et la méthode `pmf` pour récupérer la fonction de masse $p(k) = \\binom{n}{k} p^k (1-p)^{n-k}$."
   ]
  },
  {
   "cell_type": "code",
   "execution_count": null,
   "metadata": {
    "slideshow": {
     "slide_type": "slide"
    }
   },
   "outputs": [],
   "source": []
  },
  {
   "cell_type": "markdown",
   "metadata": {},
   "source": [
    "## Lois à densité\n",
    "On se propose d’identifier la loi d’une variable aléatoire $X$ en traçant l’histogramme d’échantillon $(X_1, \\dots, X_N)$ de réalisations indépendantes de $X$ et en le comparant à la densité supposée de $X$. On rappelle qu’un histogramme d’un échantillon est un diagramme en colonnes exprimant la répartition des valeurs de cet échantillon dans divers intervalles (la renormalisation est faite de façon à ce que l’aire totale vaille 1). \n",
    "\n",
    "On peut construire un histogramme à l'aide de la fonction `np.histogram` ou bien le construire et le tracer en utilisant `plt.hist`. Le paramètre optionnel `bins` est soit le nombre de colonnes (que l'on peut choisir automatiquement à $N^{1/3}$ dans un premier temps), soit le vecteur des abscisses (ordonnées dans l’ordre croissant) des bases des colonnes."
   ]
  },
  {
   "cell_type": "markdown",
   "metadata": {},
   "source": [
    "><b><big>Q</big>1.</b> Soient $X$ et $Y$ des variables aléatoires de loi uniforme sur $[−1, 1]$ indépendantes. Illustrer,\n",
    "via un histogramme, le fait que $X+Y$ a pour densité $q(x) = \\frac{1}{4} \\max \\bigl(2 − |x|, 0\\bigr)$."
   ]
  },
  {
   "cell_type": "code",
   "execution_count": null,
   "metadata": {},
   "outputs": [],
   "source": []
  },
  {
   "cell_type": "markdown",
   "metadata": {},
   "source": [
    "><b><big>Q</big>2.</b> Soient $X$ et $Y$ des variables aléatoires de loi exponentielle de paramètre 1, indépendantes. Illustrer, via un histogramme, le fait que $X+Y$ a pour densité $q(x) = x e^{−x} \\mathbf{1}_{x \\ge 0}$."
   ]
  },
  {
   "cell_type": "code",
   "execution_count": null,
   "metadata": {},
   "outputs": [],
   "source": []
  },
  {
   "cell_type": "markdown",
   "metadata": {},
   "source": [
    "><b><big>Q</big>3.</b> Illustrer la propriété d’absence de mémoire des lois exponentielles : si $X$ suit une loi exponentielle, alors pour tout $t > 0$, la loi de $X − t$ sachant que $X > t$ est la loi de $X$ (c’est la raison pour laquelle on utilise ces lois pour modéliser les durées de vie de composants sans usure). Prendre par exemple un loi expontielle de paramètre $\\lambda = 0.1$ et différentes valeurs de $t \\in \\{1, 10, 40\\}$."
   ]
  },
  {
   "cell_type": "code",
   "execution_count": null,
   "metadata": {},
   "outputs": [],
   "source": []
  },
  {
   "cell_type": "markdown",
   "metadata": {
    "toc-hr-collapsed": true
   },
   "source": [
    "# Illustration de la LFGN et du TCL"
   ]
  },
  {
   "cell_type": "markdown",
   "metadata": {},
   "source": [
    "Soit $(X_n)_{n \\ge 1}$ une suite de variables aléatoires _i.i.d._ de carré intégrable. On définit les suites $(m_n)_{n \\ge 1}$ et $(\\sigma_n^2)_{n \\ge 2}$ (non définie pour $n = 1$) de la façon suivante\n",
    "$$\n",
    "    m_n = \\frac{1}{n} \\sum_{k=1}^n X_k \\qquad \\text{et} \\qquad \n",
    "    \\sigma_n^2 = \\frac{1}{n-1} \\sum_{k=1}^n (X_k - m_n)^2 \\quad \\text{pour} \\; n \\ge 2\n",
    "$$\n",
    "et on veut illustrer la Loi Forte des Grands Nombres et le Théorème Central Limite (étendu en utilisant le lemme de Slutsky pour remplacer $\\sigma^2 = \\mathrm{var}(X_1)$ par l'estimateur $\\sigma_n^2$) c'est à dire les convergences\n",
    "$$\n",
    "    m_n \\xrightarrow{p.s.} m \\qquad \\text{et} \\qquad \n",
    "    \\sqrt{n} \\Bigl(\\frac{m_n - m}{\\sigma_n}\\Bigr) \\xrightarrow{\\mathcal{L}} \\mathcal{N}(0, 1).\n",
    "$$\n",
    "Plus précisément on constuit l'intervalle de confiance (asymptotique) à 95% à partir du TCL c'est à dire \n",
    "$$\n",
    "    \\text{pour $n$ grand} \\quad \\mathbf{P} \\biggl( m \\in \\biggl[ m_n - \\frac{1.96 \\sigma_n}{\\sqrt{n}} , m_n + \\frac{1.96 \\sigma_n}{\\sqrt{n}} \\biggr] \\biggr) \\simeq 0.95\n",
    "$$"
   ]
  },
  {
   "cell_type": "markdown",
   "metadata": {},
   "source": [
    "## Loi forte des grands nombres (LFGN)"
   ]
  },
  {
   "cell_type": "markdown",
   "metadata": {},
   "source": [
    "><b><big>Q</big>1.</b> Soit $(X_n)_{n \\ge 1}$ une suite _i.i.d._ de loi uniforme sur $[-4,8]$. Illustrer la convergence de la suite $m_n$ en fonction de $n$ (jusqu'à $N = 50,$ puis $200$). Ajouter sur ce graphe l'intervalle de confiance à 95% en fonction de $n$. Vous pourrez utiliser la fonction `plt.fill_between` pour colorier la zone de confiance."
   ]
  },
  {
   "cell_type": "code",
   "execution_count": null,
   "metadata": {},
   "outputs": [],
   "source": []
  },
  {
   "cell_type": "markdown",
   "metadata": {},
   "source": [
    "## Théorème central limit (TCL)"
   ]
  },
  {
   "cell_type": "markdown",
   "metadata": {},
   "source": [
    "><b><big>Q</big>2.</b> Représenter la répartition de l'erreur renormalisée $\\displaystyle \\sqrt{N} \\Bigl(\\frac{m_N - m}{\\sigma_N}\\Bigr)$ et la comparer à la densité d'une gaussienne centrée réduite. On utilisera un échantillon de cette erreur de taille $n = 100\\,000$ pour $N = 10$ puis $N=100$."
   ]
  },
  {
   "cell_type": "code",
   "execution_count": null,
   "metadata": {},
   "outputs": [],
   "source": []
  },
  {
   "cell_type": "markdown",
   "metadata": {},
   "source": [
    "## Estimateur Monte Carlo\n",
    "\n",
    "On va mettre en oeuvre un estimateur de Monte Carlo pour calculer \n",
    "$$\n",
    "    I(\\beta) = \\mathbf{E} \\bigl[\\exp(\\beta G)\\bigr] \\quad \\text{où $G \\sim \\mathcal{N}(0,1)$ et $\\beta \\in \\mathbf{R}$}. \n",
    "$$\n",
    "La valeur exacte $I(\\beta) = \\exp(\\beta^2/2)$ est connue mais cet exemple permet d'illustrer l'importance des bornes de l'intervalle de confiance (et donc de l'estimation de la variance) dans une méthode de Monte Carlo. La seule valeur moyenne $I_n = \\frac{1}{n} \\sum_{k=1}^n X_k$ n'est pas suffisante pour déterminer $I$. "
   ]
  },
  {
   "cell_type": "markdown",
   "metadata": {},
   "source": [
    "><b><big>Q</big>3.</b> Reproduire le tableau suivant où chaque colonne représente un résultat pour une valeur de $\\beta \\in \\{0.2, 0.5, 1, 2, 3, 5\\}$: la première ligne représente la valeur exacte, la ligne 2 la valeur moyenne $I_n$, la ligne 3 l'estimateur de la variance, et les lignes 4 et 5 sont les bornes inférieures et supérieurs de l'IC à 95%. Ce tableau est obtenu pour $n = 1\\,000\\,000$. Comment interpréter ce tableau?\n",
    "<table border=\"1\" class=\"dataframe\">\n",
    "  <thead>\n",
    "    <tr style=\"text-align: right;\">\n",
    "      <th></th>\n",
    "      <th>0.2</th>\n",
    "      <th>0.5</th>\n",
    "      <th>1.0</th>\n",
    "      <th>2.0</th>\n",
    "      <th>3.0</th>\n",
    "      <th>5.0</th>\n",
    "    </tr>\n",
    "  </thead>\n",
    "  <tbody>\n",
    "    <tr>\n",
    "      <th>Exact</th>\n",
    "      <td>1.020201</td>\n",
    "      <td>1.133148</td>\n",
    "      <td>1.648721</td>\n",
    "      <td>7.389056</td>\n",
    "      <td>9.001713e+01</td>\n",
    "      <td>2.683373e+05</td>\n",
    "    </tr>\n",
    "    <tr>\n",
    "      <th>Mean</th>\n",
    "      <td>1.020265</td>\n",
    "      <td>1.133248</td>\n",
    "      <td>1.648243</td>\n",
    "      <td>7.345044</td>\n",
    "      <td>8.611100e+01</td>\n",
    "      <td>1.243426e+05</td>\n",
    "    </tr>\n",
    "    <tr>\n",
    "      <th>Var</th>\n",
    "      <td>0.042448</td>\n",
    "      <td>0.363992</td>\n",
    "      <td>4.628342</td>\n",
    "      <td>2325.033622</td>\n",
    "      <td>9.632487e+06</td>\n",
    "      <td>1.388953e+15</td>\n",
    "    </tr>\n",
    "    <tr>\n",
    "      <th>Lower</th>\n",
    "      <td>1.019861</td>\n",
    "      <td>1.132066</td>\n",
    "      <td>1.644027</td>\n",
    "      <td>7.250537</td>\n",
    "      <td>8.002800e+01</td>\n",
    "      <td>5.129734e+04</td>\n",
    "    </tr>\n",
    "    <tr>\n",
    "      <th>Upper</th>\n",
    "      <td>1.020668</td>\n",
    "      <td>1.134431</td>\n",
    "      <td>1.652460</td>\n",
    "      <td>7.439550</td>\n",
    "      <td>9.219399e+01</td>\n",
    "      <td>1.973878e+05</td>\n",
    "    </tr>\n",
    "  </tbody>\n",
    "</table>"
   ]
  },
  {
   "cell_type": "code",
   "execution_count": null,
   "metadata": {},
   "outputs": [],
   "source": []
  },
  {
   "cell_type": "markdown",
   "metadata": {
    "toc-hr-collapsed": false
   },
   "source": [
    "# Structure de données, dictionnaires"
   ]
  },
  {
   "cell_type": "markdown",
   "metadata": {},
   "source": [
    "Les dictionnaires sont très présents en python et il est important de savoir les manipuler. Un dictionnaire est tableau associatif c'est à dire un type de données associant à un ensemble de clefs $E$ un ensemble correspondant de valeurs $F$. Chaque clef est associée à une valeur: c'est une application surjective de $E$ dans $F$. \n",
    "\n",
    "Par exemple si on veut créer un dictionnaire qui contient des villes (les clefs) et qui renvoit le pays correspondant (la valeur), on pourra utiliser le code suivant:"
   ]
  },
  {
   "cell_type": "code",
   "execution_count": null,
   "metadata": {},
   "outputs": [],
   "source": [
    "# on initialise un dictionnaire\n",
    "d = { \"Paris\" : \"France\", \"Londres\" : \"Angleterre\", \"Rome\" : \"Italie\", \"Marseille\" : \"France\" }"
   ]
  },
  {
   "cell_type": "code",
   "execution_count": null,
   "metadata": {},
   "outputs": [],
   "source": [
    "# on ajoute un couple clef-valeur\n",
    "d[\"Lille\"] = \"France\""
   ]
  },
  {
   "cell_type": "markdown",
   "metadata": {},
   "source": [
    "><b><big>Q</big>1.</b> A l'aide des méthodes `keys()`, `values()` et `items()` du dictionnaire `d`, produire l'affichage des clefs, des valeurs puis des clefs et valeurs. \n",
    "</div>"
   ]
  },
  {
   "cell_type": "code",
   "execution_count": null,
   "metadata": {},
   "outputs": [],
   "source": []
  },
  {
   "cell_type": "markdown",
   "metadata": {},
   "source": [
    "## Graphe et Matrice d'adjacence"
   ]
  },
  {
   "cell_type": "markdown",
   "metadata": {},
   "source": [
    "Dans la suite un graphe est un graphe simple non orienté qui sera donné par un ensemble de sommets $E$ et à chaque sommet sera associé un ensemble de voisins (un sommet et un voisin forment un couple de $E \\times E$ appelé arête). La matrice d'adjacence associée à un graphe a une valeur nulle si 2 sommets ne sont pas voisins et une valeur non nulle (ici 1) sinon.\n",
    "\n",
    "<table style=\"width:100%\">\n",
    "    <tr style=\"text-align:center\">\n",
    "        <th>Représentation graphique du graphe</th>\n",
    "        <th>Matrice d'adjacence associée</th>\n",
    "    </tr>\n",
    "    <tr></tr>\n",
    "    <tr style=\"text-align:center\">\n",
    "        <th><img src=graph.png></th>\n",
    "        <th>\n",
    "$\\begin{pmatrix}\n",
    " 0 & 0 & 1 & 0 & 0 & 0\\\\\n",
    " 0 & 0 & 1 & 0 & 1 & 0\\\\\n",
    " 1 & 1 & 0 & 1 & 1 & 0\\\\\n",
    " 0 & 0 & 1 & 0 & 0 & 0\\\\\n",
    " 0 & 1 & 1 & 0 & 0 & 0\\\\\n",
    " 0 & 0 & 0 & 0 & 0 & 0\\\\\n",
    "\\end{pmatrix}$\n",
    "        </th>\n",
    "    </tr>\n",
    "</table>"
   ]
  },
  {
   "cell_type": "markdown",
   "metadata": {},
   "source": [
    "On propose de représenter un graphe comme un dictionnaire dont une clef est un sommet et la valeur associée est la liste des voisins. Un graphe sera donc un `dict` de `list`. Voici par exemple le graphe $G$ correspondant à la représentation graphique ci-dessus."
   ]
  },
  {
   "cell_type": "code",
   "execution_count": null,
   "metadata": {},
   "outputs": [],
   "source": [
    "graph_G = { \"A\" : [\"C\"],\n",
    "            \"B\" : [\"C\", \"E\"],\n",
    "            \"C\" : [\"A\", \"B\", \"D\", \"E\"],\n",
    "            \"D\" : [\"C\"],\n",
    "            \"E\" : [\"C\", \"B\"],\n",
    "            \"F\" : []\n",
    "          } \n",
    "print(graph_G)"
   ]
  },
  {
   "cell_type": "markdown",
   "metadata": {},
   "source": [
    "La matrice d'adjance associée peut être définie comme un `np.array` de dimension $6 \\times 6$ et initialisée par le code suivant:"
   ]
  },
  {
   "cell_type": "code",
   "execution_count": null,
   "metadata": {},
   "outputs": [],
   "source": [
    "mat_G = np.zeros(shape = (6,6))\n",
    "mat_G[0, 2] = 1\n",
    "mat_G[1, (2,4)] = 1\n",
    "mat_G[2, (0,1,3,4)] = 1\n",
    "mat_G[3, 2] = 1\n",
    "mat_G[4, (2,1)] = 1\n",
    "print(mat_G)"
   ]
  },
  {
   "cell_type": "markdown",
   "metadata": {},
   "source": [
    "><b><big>Q</big>2.</b> Ecrire une fonction `adjmat_to_graph` qui à une matrice d'adjacence donnée renvoit le graphe associé. "
   ]
  },
  {
   "cell_type": "code",
   "execution_count": null,
   "metadata": {},
   "outputs": [],
   "source": []
  },
  {
   "cell_type": "markdown",
   "metadata": {},
   "source": [
    "><b><big>Q</big>3.</b> Ecrire une fonction `graph_to_adjmat` qui réalise l'opération inverse: à un graphe stocké dans un `dict` de `list` renvoit sa une matrice d'adjacence. "
   ]
  },
  {
   "cell_type": "code",
   "execution_count": null,
   "metadata": {},
   "outputs": [],
   "source": []
  },
  {
   "cell_type": "markdown",
   "metadata": {
    "toc-hr-collapsed": true
   },
   "source": [
    "## Parcours en largeur d'un graphe"
   ]
  },
  {
   "cell_type": "markdown",
   "metadata": {},
   "source": [
    "><b><big>Q</big>4.</b> Créer un graphe de taille `N = 20` tel que la probabilité d'avoir une arête entre 2 sommets est `p = 0.25`."
   ]
  },
  {
   "cell_type": "code",
   "execution_count": null,
   "metadata": {},
   "outputs": [],
   "source": []
  },
  {
   "cell_type": "markdown",
   "metadata": {},
   "source": [
    "><b><big>Q</big>5.</b> Ecrire une fonction qui renvoit une `list` ou un `set` de tous les voisins à une distance inférieure à `k` (`k >= 0`) d'un sommet donné. Une distance de 0 doit renvoyer le sommet donné en entrée. \n",
    "Tester cette fonction sur un graphe creux généré dans la question précédente."
   ]
  },
  {
   "cell_type": "code",
   "execution_count": null,
   "metadata": {},
   "outputs": [],
   "source": []
  },
  {
   "cell_type": "markdown",
   "metadata": {
    "toc-hr-collapsed": false
   },
   "source": [
    "# Simulation d'une expérience aléatoire, chaîne de Markov"
   ]
  },
  {
   "cell_type": "markdown",
   "metadata": {},
   "source": [
    "## Urnes d'Ehrenfest"
   ]
  },
  {
   "cell_type": "markdown",
   "metadata": {},
   "source": [
    "On considère $d$ balles ($d > 1$) numérotées de 1 à $d$ et réparties initialement dans deux urnes $A$ et $B$. On note $E = \\{1,\\dots,d\\}$ l'ensemble des balles et on s'intéresse à l'évolution du contenu des urnes après un nombre $n \\ge 1$ de changements d'états. Un changement d'état est modélisé de la façon suivante: \"_on tire un numéro de balle selon la loi uniforme sur $E$ et à un tirage $i$ on déplace la balle numéro $i$ d'une urne à l'autre_\". Le contenu des urnes change au cours du temps et on note $A_n$ le contenu de $A$ à l'itération $n$. Ce modèle porte le nom d'_Urnes d'Ehrenfest_. \n",
    "\n",
    "Dans le programme de test on prendra $d = 20$ c'est à dire $E = \\{1,\\dots,20\\}$ et le contenu initial $A_0 = \\{1,\\dots,10\\}$. "
   ]
  },
  {
   "cell_type": "markdown",
   "metadata": {},
   "source": [
    "><b><big>Q</big>1.</b> En utilisant le type `list` initaliser les listes `E` et `A_0`, puis programmer l'évolution du contenu de l'urne pas à pas (par exemple en utilisant les méthodes `remove` et `append`). Afficher le résultat `A_n` et `B_n` après `n = 100` itérations."
   ]
  },
  {
   "cell_type": "code",
   "execution_count": null,
   "metadata": {},
   "outputs": [],
   "source": []
  },
  {
   "cell_type": "markdown",
   "metadata": {},
   "source": [
    "><b><big>Q</big>2.</b> Reprendre la question précédente avec le type `set` et les méthodes associées: `add` et `remove`."
   ]
  },
  {
   "cell_type": "code",
   "execution_count": null,
   "metadata": {},
   "outputs": [],
   "source": []
  },
  {
   "cell_type": "markdown",
   "metadata": {},
   "source": [
    "Cette construction itérative nécessaire dans des dynamiques plus complexes peut être améliorée de la façon suivante. Si on construit un vecteur `sample` des `n` réalisations de la loi uniforme sur $E$, on peut en déduire directement la composition des urnes à l'itération $n$. En effet la balle $i$ n'a pas changé d'urne entre 0 et $n$ si et seulement si le numéro $i$ apparait un nombre pair de fois dans `sample`."
   ]
  },
  {
   "cell_type": "markdown",
   "metadata": {},
   "source": [
    "><b><big>Q</big>3.</b> Construire directement `A_n` et `B_n` à partir d'un vecteur `sample` de taille `n` qui contient les réalisations de la loi uniforme sur $E$."
   ]
  },
  {
   "cell_type": "code",
   "execution_count": null,
   "metadata": {},
   "outputs": [],
   "source": []
  },
  {
   "cell_type": "markdown",
   "metadata": {
    "toc-hr-collapsed": true
   },
   "source": [
    "## Modélisation en tant que chaîne de Markov"
   ]
  },
  {
   "cell_type": "markdown",
   "metadata": {},
   "source": [
    "On s'intéresse maintenant non plus à la composition de l'urne $A_n$ mais uniquement à sa taille. On note $X_n = \\mathrm{Card}(A_n)$. L'évolution de $X_n$ se fait de la façon suivante: si l'urne $A_n$ contient $X_{n}$ balles alors la probabilité de tirer une balle présente dans $A_n$ est $\\frac{X_{n}}{d}$. Ainsi avec probabilité $\\frac{X_{n}}{d}$, $X_{n+1} = X_n - 1$ (car on déplace la balle dans l'urne $B$), et avec probabilité $\\frac{d-X_n}{d}$ on a $X_{n+1} = X_n + 1$. La récurrence aléatoire suivante permet de construire une trajectoire $(X_0, \\dots, X_n)$ \n",
    "$$\n",
    "    \\forall k \\ge 0, \\quad X_{k+1} = X_k + 1 - 2 \\mathbf{1}_{ \\left\\{U_{k+1} < \\frac{X_k}{d} \\right\\}}, \\qquad X_0 \\in \\{0,\\dots,d\\},\n",
    "$$\n",
    "avec $(U_k)_{k \\ge 1}$ une suite de variables aléatoires indépendantes de loi uniforme sur $[0,1]$."
   ]
  },
  {
   "cell_type": "markdown",
   "metadata": {},
   "source": [
    "><b><big>Q</big>4.</b> Ecrire une fonction `one_path` qui prend 2 arguments: un entier `X_0` (taille de $A_0$) et un `np.array` de taille `n` nommé `sample_U` qui contient les réalisations $(U_1, \\dots, U_n)$ utilisées pour construire une trajectoire (path) totale $(X_0, \\dots, X_n)$. La fonction `one_path` renvoit un `np.array` de taille `n+1` qui contient $(X_0, \\dots, X_n)$."
   ]
  },
  {
   "cell_type": "code",
   "execution_count": null,
   "metadata": {},
   "outputs": [],
   "source": []
  },
  {
   "cell_type": "markdown",
   "metadata": {},
   "source": [
    "><b><big>Q</big>5.</b> Représenter 5 trajectoires indépendantes $(X_0, \\dots, X_n)$ avec $n = 50$ et $X_0 = 10$."
   ]
  },
  {
   "cell_type": "code",
   "execution_count": null,
   "metadata": {},
   "outputs": [],
   "source": []
  },
  {
   "cell_type": "markdown",
   "metadata": {},
   "source": [
    "><b><big>Q</big>6.</b> Faire un échantillon de taille $N = 1000$ de réalisations de $X_n$ pour $n = 50$ et $X_0 = 10$. Représenter l'histogramme empirique (vous pouvez utiliser `plt.xticks(np.arange(0,d+1))` pour avoir une représentation bien lisible). Faire de même pour $n = 51$. Que constatez-vous ? Était-ce prévisible ? "
   ]
  },
  {
   "cell_type": "code",
   "execution_count": null,
   "metadata": {},
   "outputs": [],
   "source": []
  },
  {
   "cell_type": "markdown",
   "metadata": {},
   "source": [
    "On modifie un peu la modélisation précédente en considérant la règle suivante: \"_on tire un numéro de balle selon la loi uniforme sur $E$ et à un tirage $i$ on déplace la balle numéro $i$ d'une urne à l'autre **avec probabilité 1/2**_\"."
   ]
  },
  {
   "cell_type": "markdown",
   "metadata": {},
   "source": [
    "><b><big>Q</big>7.</b> Reprendre la question précédente avec ce nouveau modèle. <br />\n",
    "On peut montrer que si $X_0 \\sim B\\bigl(d, \\frac{1}{2}\\bigr)$ (loi binomiale) alors $X_1 \\sim B\\bigl(d, \\frac{1}{2}\\bigr)$. \n",
    "Comparer cette loi binomiale avec l'histogramme empirique de la loi $X_n$ pour $n$ grand (par exemple $n = 100$, vous pouvez choisir $X_0$ fixé à 10)."
   ]
  },
  {
   "cell_type": "code",
   "execution_count": null,
   "metadata": {},
   "outputs": [],
   "source": []
  }
 ],
 "metadata": {
  "kernelspec": {
   "display_name": "Python 3",
   "language": "python",
   "name": "python3"
  },
  "language_info": {
   "codemirror_mode": {
    "name": "ipython",
    "version": 3
   },
   "file_extension": ".py",
   "mimetype": "text/x-python",
   "name": "python",
   "nbconvert_exporter": "python",
   "pygments_lexer": "ipython3",
   "version": "3.6.8"
  },
  "toc-autonumbering": true,
  "toc-showcode": false,
  "toc-showmarkdowntxt": false,
  "toc-showtags": false
 },
 "nbformat": 4,
 "nbformat_minor": 2
}
